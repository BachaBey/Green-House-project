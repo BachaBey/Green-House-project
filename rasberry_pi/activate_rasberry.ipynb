{
 "cells": [
  {
   "cell_type": "code",
   "execution_count": null,
   "metadata": {},
   "outputs": [],
   "source": [
    "import json\n",
    "import time\n",
    "import datetime\n",
    "import linking\n",
    "import plantysens"
   ]
  },
  {
   "cell_type": "code",
   "execution_count": null,
   "metadata": {},
   "outputs": [],
   "source": [
    "#function to save the data to .json(java script object notation) file \n",
    "def save_data(data, filename):\n",
    "    with open(filename, 'w') as file:\n",
    "        json.dump(data, file)\n",
    "\n",
    "#function to load and read the data to .json(java script object notation) file \n",
    "def load_data(filename):\n",
    "    try:\n",
    "        # Open the file in read mode with an optional 'x' mode to create if missing\n",
    "        with open(filename, 'r') as file:\n",
    "            return json.load(file)\n",
    "    except FileNotFoundError:\n",
    "        # If file not found, create it with an empty dictionary\n",
    "        with open(filename, 'w') as file:\n",
    "            json.dump({}, file)\n",
    "        return {} "
   ]
  },
  {
   "cell_type": "code",
   "execution_count": null,
   "metadata": {},
   "outputs": [],
   "source": [
    "filepath=\"C:/Users/PC-Victus/personal_growth/projet_iss_malek/flask_page/collected_data_file.json\"\n",
    "user_database_reference_filepath=\"C:/Users/PC-Victus/personal_growth/projet_iss_malek/flask_page/user_database_reference_file.json\"\n",
    "plant_configuration_database_filepath=\"C:/Users/PC-Victus/personal_growth/projet_iss_malek/flask_page/plant_configuration_database.json\""
   ]
  },
  {
   "cell_type": "code",
   "execution_count": null,
   "metadata": {},
   "outputs": [],
   "source": [
    "def activate_the_program(filepath):\n",
    "    while True:    \n",
    "        #load data from file\n",
    "        collected_data=load_data(filepath)\n",
    "        user_database_reference=load_data(user_database_reference_filepath)\n",
    "        \n",
    "        for plant_name in user_database_reference:\n",
    "            \n",
    "            #check the existance of a plant in the file and add it if not\n",
    "            if plant_name not in collected_data:\n",
    "                collected_data.update({plant_name:{}})\n",
    "                save_data(collected_data,filepath)\n",
    "                \n",
    "        collected_data=load_data(filepath)\n",
    "        for plant_name in user_database_reference:\n",
    "\n",
    "            plant_config=load_data(plant_configuration_database_filepath)\n",
    "\n",
    "            #get the current time\n",
    "            current_time=datetime.datetime.now().strftime(\"%Y-%m-%d %H:%M:%S\")\n",
    "\n",
    "            #get pins for sensors\n",
    "            moisture_pin_number=plant_config[plant_name]['sensor']['moisture']\n",
    "            temperature_pin_number=plant_config[plant_name]['sensor']['temperature']\n",
    "            light_pin_number=plant_config[plant_name]['sensor']['light']\n",
    "            humidity_pin_number=plant_config[plant_name]['sensor']['humidity']\n",
    "            \n",
    "            #get data from sensors\n",
    "            moisture_sensor_data=plantysens.read_moisture(moisture_pin_number)\n",
    "            temperature_sensor_data=plantysens.read_temperature(temperature_pin_number)\n",
    "            illumination_sensor_data=plantysens.read_light(light_pin_number)\n",
    "            humidity_sensor_data=plantysens.read_humidity(humidity_pin_number)\n",
    "           \n",
    "            #add the collected data from sensors to the file\n",
    "            infos={\"temperature\":temperature_sensor_data,\"illumination\":illumination_sensor_data,\"moisture\":moisture_sensor_data,\"humidity\":humidity_sensor_data}\n",
    "            collected_data[plant_name].update({current_time:infos})\n",
    "            \n",
    "            #save data in the file\n",
    "            save_data(collected_data,filepath)\n",
    "\n",
    "            #get greenhouse number\n",
    "            greenhouse_number=\"greenhouse\"+str(user_database_reference[plant_name]['greenhouse'])\n",
    "            \n",
    "            #get pins for sensors\n",
    "            led_pin_number=plant_config[greenhouse_number]['actuator']['led']\n",
    "            irrigation_pin_number=plant_config[greenhouse_number]['actuator']['irrigation']\n",
    "            ventilator_pin_number=plant_config[greenhouse_number]['actuator']['ventilator']\n",
    "            cooler_pin_number=plant_config[greenhouse_number]['actuator']['cooler']\n",
    "            heater_pin_number=plant_config[greenhouse_number]['actuator']['heater']\n",
    "            humidity_water_pin_number=plant_config[greenhouse_number]['actuator']['humidity_water']\n",
    "\n",
    "            #control the greenhouse\n",
    "            while not( linking.control_light(plant_name,led_pin_number,illumination_sensor_data) and linking.control_moisture(plant_name,irrigation_pin_number,moisture_sensor_data) and linking.control_temperature(plant_name,cooler_pin_number,heater_pin_number,ventilator_pin_number,temperature_sensor_data) and linking.control_humidity(plant_name,ventilator_pin_number,humidity_water_pin_number,humidity_sensor_data)):\n",
    "                time.sleep(5)\n",
    "                moisture_sensor_data=plantysens.read_moisture(moisture_pin_number)\n",
    "                temperature_sensor_data=plantysens.read_temperature(temperature_pin_number)\n",
    "                illumination_sensor_data=plantysens.read_light(light_pin_number)\n",
    "                humidity_sensor_data=plantysens.read_humidity(humidity_pin_number)\n",
    "\n",
    "\n",
    "            \n",
    "        #choose the period for taking data\n",
    "        time.sleep(10) #in second so for example for example for 6 hours we can put 6*3600 (3600 is the number of seconds in an hour)"
   ]
  },
  {
   "cell_type": "code",
   "execution_count": null,
   "metadata": {},
   "outputs": [],
   "source": []
  }
 ],
 "metadata": {
  "kernelspec": {
   "display_name": "base",
   "language": "python",
   "name": "python3"
  },
  "language_info": {
   "codemirror_mode": {
    "name": "ipython",
    "version": 3
   },
   "file_extension": ".py",
   "mimetype": "text/x-python",
   "name": "python",
   "nbconvert_exporter": "python",
   "pygments_lexer": "ipython3",
   "version": "3.11.7"
  }
 },
 "nbformat": 4,
 "nbformat_minor": 2
}
