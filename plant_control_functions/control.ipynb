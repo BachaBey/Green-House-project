{
 "cells": [
  {
   "cell_type": "code",
   "execution_count": 1,
   "metadata": {},
   "outputs": [],
   "source": [
    "#libraries needed\n",
    "import json\n",
    "import time\n",
    "import datetime\n",
    "import pandas as pd\n",
    "import matplotlib.pyplot as plt\n",
    "import os"
   ]
  },
  {
   "cell_type": "code",
   "execution_count": 2,
   "metadata": {},
   "outputs": [],
   "source": [
    "#function to save the data to .json(java script object notation) file \n",
    "def save_data(data, filename):\n",
    "    with open(filename, 'w') as file:\n",
    "        json.dump(data, file)"
   ]
  },
  {
   "cell_type": "code",
   "execution_count": 3,
   "metadata": {},
   "outputs": [],
   "source": [
    "#function to load and read the data to .json(java script object notation) file \n",
    "def load_data(filename):\n",
    "    try:\n",
    "        # Open the file in read mode with an optional 'x' mode to create if missing\n",
    "        with open(filename, 'r') as file:\n",
    "            return json.load(file)\n",
    "    except FileNotFoundError:\n",
    "        # If file not found, create it with an empty dictionary\n",
    "        with open(filename, 'w') as file:\n",
    "            json.dump({}, file)\n",
    "        return {} "
   ]
  },
  {
   "cell_type": "code",
   "execution_count": 4,
   "metadata": {},
   "outputs": [],
   "source": [
    "# Function for automated data collection for a choosed frequency \n",
    "filepath=\"C:/Users/PC-Victus/personal_growth/projet_iss_malek/flask_page/collected_data_file.json\""
   ]
  },
  {
   "cell_type": "markdown",
   "metadata": {},
   "source": [
    "# Convert the dictionnaries in the json file to a DataFrame using pandas\n"
   ]
  },
  {
   "cell_type": "code",
   "execution_count": 5,
   "metadata": {},
   "outputs": [],
   "source": [
    "def organize_data_to_create_dataframe(filepath,plant_name):\n",
    "\n",
    "    #get data from the file \n",
    "    data_to_convert=load_data(filepath)\n",
    "    data_to_convert=data_to_convert[plant_name]\n",
    "\n",
    "    #convert data to a datframe and treat it\n",
    "    data_to_draw_graph=pd.DataFrame(data_to_convert)\n",
    "    data_to_draw_graph=data_to_draw_graph.transpose()\n",
    "    data_to_draw_graph=data_to_draw_graph.reset_index(names='date')\n",
    "    \n",
    "    return data_to_draw_graph"
   ]
  },
  {
   "cell_type": "markdown",
   "metadata": {},
   "source": [
    "## Create graphs"
   ]
  },
  {
   "cell_type": "markdown",
   "metadata": {},
   "source": [
    "Delete data according to a time period"
   ]
  },
  {
   "cell_type": "code",
   "execution_count": 6,
   "metadata": {},
   "outputs": [],
   "source": [
    "def get_first_date_for_period(filepath,plant_name,period):\n",
    "\n",
    "    #load data\n",
    "    data=load_data(filepath)\n",
    "\n",
    "    #get all dates\n",
    "    all_dates_collected=list(data[plant_name].keys())\n",
    "\n",
    "    #get last date collected\n",
    "    last_date_collected=all_dates_collected.pop()\n",
    "\n",
    "    #convert it to this format (\"%Y-%m-%d %H:%M:%S\")\n",
    "    last_date_collected=datetime.datetime.strptime(last_date_collected,\"%Y-%m-%d %H:%M:%S\")\n",
    "\n",
    "    #get the first date depending on the period\n",
    "    first_date_collected=last_date_collected-datetime.timedelta(seconds=period)\n",
    "\n",
    "    return str(first_date_collected)"
   ]
  },
  {
   "cell_type": "markdown",
   "metadata": {},
   "source": [
    "### !!!For real usage we use this function because the period will be on days!!!"
   ]
  },
  {
   "cell_type": "code",
   "execution_count": 7,
   "metadata": {},
   "outputs": [
    {
     "data": {
      "text/plain": [
       "'def get_first_date_for_period(filepath,plant_name,period):\\n    data=load_data(filepath)\\n    all_dates_collected=list(data[plant_name].keys())\\n    last_date_collected=all_dates_collected.pop()\\n    last_date_collected=datetime.datetime.strptime(last_date_collected,\"%Y-%m-%d %H:%M:%S\")\\n    first_date_collected=last_date_collected-datetime.timedelta(days=period)\\n    print(first_date_collected)'"
      ]
     },
     "execution_count": 7,
     "metadata": {},
     "output_type": "execute_result"
    }
   ],
   "source": [
    "'''def get_first_date_for_period(filepath,plant_name,period):\n",
    "    data=load_data(filepath)\n",
    "    all_dates_collected=list(data[plant_name].keys())\n",
    "    last_date_collected=all_dates_collected.pop()\n",
    "    last_date_collected=datetime.datetime.strptime(last_date_collected,\"%Y-%m-%d %H:%M:%S\")\n",
    "    first_date_collected=last_date_collected-datetime.timedelta(days=period)\n",
    "    print(first_date_collected)'''"
   ]
  },
  {
   "cell_type": "code",
   "execution_count": 8,
   "metadata": {},
   "outputs": [],
   "source": [
    "def remove_file(filepath):\n",
    "    if os.path.exists(filepath):\n",
    "         os.remove(filepath)"
   ]
  },
  {
   "cell_type": "code",
   "execution_count": 9,
   "metadata": {},
   "outputs": [],
   "source": [
    "def draw_graph(filepath,plant_name,variable):\n",
    "    name='C:/Users/PC-Victus/personal_growth/projet_iss_malek/flask_page/static/images/graphs/'+plant_name+'_'+variable+\"_graph.png\"\n",
    "    filename = name\n",
    "    remove_file(filename)\n",
    "\n",
    "\n",
    "    #define th type of the graph\n",
    "    fig , ax = plt.subplots()\n",
    "\n",
    "    #get the dataframe to draw the graph\n",
    "    df=organize_data_to_create_dataframe(filepath,plant_name)\n",
    "\n",
    "    #filter data frame depending on the period\n",
    "    filtered_df = df[df['date'] > get_first_date_for_period(filepath,plant_name,20)]\n",
    "\n",
    "    #choose the axis and the type of the graph \n",
    "    ax.plot(filtered_df['date'], filtered_df[variable.lower()], marker='o')\n",
    "    \n",
    "    #add graph's legend\n",
    "    ax.set_title(plant_name+\": \"+variable+' Over Time')\n",
    "    ax.set_xlabel('Date')\n",
    "    ax.set_ylabel(variable)\n",
    "\n",
    "    plt.savefig(filename, format='png')"
   ]
  },
  {
   "cell_type": "code",
   "execution_count": 10,
   "metadata": {},
   "outputs": [
    {
     "data": {
      "text/plain": [
       "'c:/Users/PC-Victus/personal_growth/projet_iss_malek/plant_control_functions/collected_data_file.json'"
      ]
     },
     "execution_count": 10,
     "metadata": {},
     "output_type": "execute_result"
    }
   ],
   "source": [
    "def get_collected_data_path_file():    \n",
    "    collected_data_filepath=os.path.abspath('collected_data_file.json')\n",
    "    collected_data_filepath=collected_data_filepath.replace(\"\\\\\",\"/\")\n",
    "    return collected_data_filepath\n",
    "get_collected_data_path_file()"
   ]
  }
 ],
 "metadata": {
  "kernelspec": {
   "display_name": "base",
   "language": "python",
   "name": "python3"
  },
  "language_info": {
   "codemirror_mode": {
    "name": "ipython",
    "version": 3
   },
   "file_extension": ".py",
   "mimetype": "text/x-python",
   "name": "python",
   "nbconvert_exporter": "python",
   "pygments_lexer": "ipython3",
   "version": "3.11.7"
  }
 },
 "nbformat": 4,
 "nbformat_minor": 2
}
