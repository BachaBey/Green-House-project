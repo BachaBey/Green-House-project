{
 "cells": [
  {
   "cell_type": "code",
   "execution_count": null,
   "metadata": {},
   "outputs": [],
   "source": [
    "import math"
   ]
  },
  {
   "cell_type": "markdown",
   "metadata": {},
   "source": [
    "### Create a fake pi environement to test the program"
   ]
  },
  {
   "cell_type": "code",
   "execution_count": null,
   "metadata": {},
   "outputs": [],
   "source": [
    "import sys\n",
    "import fake_rpi\n",
    "\n",
    "sys.modules['RPi'] = fake_rpi.RPi     # Fake RPi\n",
    "sys.modules['RPi.GPIO'] = fake_rpi.RPi.GPIO # Fake GPIO\n",
    "sys.modules['smbus'] = fake_rpi.smbus # Fake smbus (I2C)"
   ]
  },
  {
   "cell_type": "code",
   "execution_count": null,
   "metadata": {},
   "outputs": [],
   "source": [
    "import RPi.GPIO as GPIO\n",
    "import dht11"
   ]
  },
  {
   "cell_type": "code",
   "execution_count": null,
   "metadata": {},
   "outputs": [],
   "source": [
    "# Function to read the light intensity\n",
    "def read_light(light_pin):\n",
    "\n",
    "    # Set up the GPIO pins\n",
    "    GPIO.setmode(GPIO.BOARD)\n",
    "\n",
    "    #setting pin as an input.\n",
    "    GPIO.setup(light_pin, GPIO.IN)     \n",
    "\n",
    "    # defining Constants for the LDR circuit\n",
    "    VCC = 3.3                      #voltage supply \n",
    "    R_LDR = 10000                  #resistance of the LDR in darkness\n",
    "    R_FIX = 1000                   #resistance of the fixed resistor\n",
    "\n",
    "    #calculating the voltage across the LDR using Ohm's law and the formula for a voltage divider circuit. \n",
    "    voltage = VCC * (R_FIX / (R_FIX + GPIO.input(light_pin) * R_LDR))\n",
    "    \n",
    "    #calculating the lux value \n",
    "    lux = 10000 * ((math.log(VCC / voltage - 1)) ** -1.4)\n",
    "    \n",
    "    # Clean up the GPIO pins \n",
    "    GPIO.cleanup()\n",
    "         \n",
    "    return lux"
   ]
  },
  {
   "cell_type": "code",
   "execution_count": null,
   "metadata": {},
   "outputs": [],
   "source": [
    "# Function to read Moisture value\n",
    "def read_moisture(moisture_pin):\n",
    "\n",
    "    # Set up the GPIO pins\n",
    "    GPIO.setmode(GPIO.BOARD)\n",
    "\n",
    "    #setting pin as an input.\n",
    "    GPIO.setup(moisture_pin, GPIO.IN)\n",
    "\n",
    "    # Read the moisture sensor's value\n",
    "    moisture_value = GPIO.input(moisture_pin)\n",
    "    \n",
    "    # Clean up the GPIO pins \n",
    "    GPIO.cleanup()\n",
    "\n",
    "    return moisture_value"
   ]
  },
  {
   "cell_type": "code",
   "execution_count": null,
   "metadata": {},
   "outputs": [],
   "source": [
    "# Function to read Temperature value\n",
    "def read_temperature(temperature_pin):\n",
    "    \n",
    "    temp_value=dht11.read(dht11.DHT11,temperature_pin).temperature\n",
    "    return temp_value"
   ]
  },
  {
   "cell_type": "code",
   "execution_count": null,
   "metadata": {},
   "outputs": [],
   "source": [
    "# Function to read Humidioty value\n",
    "def read_humidity(humidity_pin):\n",
    "    humidity_value=dht11.read(dht11.DHT11,humidity_pin).humidity\n",
    "    return humidity_value"
   ]
  }
 ],
 "metadata": {
  "kernelspec": {
   "display_name": "base",
   "language": "python",
   "name": "python3"
  },
  "language_info": {
   "codemirror_mode": {
    "name": "ipython",
    "version": 3
   },
   "file_extension": ".py",
   "mimetype": "text/x-python",
   "name": "python",
   "nbconvert_exporter": "python",
   "pygments_lexer": "ipython3",
   "version": "3.11.7"
  }
 },
 "nbformat": 4,
 "nbformat_minor": 2
}
