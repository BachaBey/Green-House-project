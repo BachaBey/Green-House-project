{
 "cells": [
  {
   "cell_type": "code",
   "execution_count": 1,
   "metadata": {},
   "outputs": [
    {
     "ename": "ModuleNotFoundError",
     "evalue": "No module named 'RPi'",
     "output_type": "error",
     "traceback": [
      "\u001b[1;31m---------------------------------------------------------------------------\u001b[0m",
      "\u001b[1;31mModuleNotFoundError\u001b[0m                       Traceback (most recent call last)",
      "Cell \u001b[1;32mIn[1], line 1\u001b[0m\n\u001b[1;32m----> 1\u001b[0m \u001b[38;5;28;01mimport\u001b[39;00m \u001b[38;5;21;01mRPi\u001b[39;00m\u001b[38;5;21;01m.\u001b[39;00m\u001b[38;5;21;01mGPIO\u001b[39;00m \u001b[38;5;28;01mas\u001b[39;00m \u001b[38;5;21;01mGPIO\u001b[39;00m\n",
      "\u001b[1;31mModuleNotFoundError\u001b[0m: No module named 'RPi'"
     ]
    }
   ],
   "source": [
    "import RPi.GPIO as GPIO"
   ]
  },
  {
   "cell_type": "code",
   "execution_count": 3,
   "metadata": {},
   "outputs": [],
   "source": [
    "# Function to activate heater (in our prototype its a ventilator)\n",
    "def activate_heater(heater_pin,heat_on):\n",
    "    GPIO.setmode(GPIO.BOARD)\n",
    "    GPIO.setup(heater_pin, GPIO.OUT)\n",
    "    GPIO.output(heater_pin, heat_on)\n",
    "\n",
    "    # Clean up the GPIO pins \n",
    "    GPIO.cleanup()"
   ]
  },
  {
   "cell_type": "code",
   "execution_count": 4,
   "metadata": {},
   "outputs": [],
   "source": [
    "# Function to activate cooler (in our prototype its a ventilator)\n",
    "def activate_cooler(cooler_pin,heat_on):\n",
    "    GPIO.setmode(GPIO.BOARD)\n",
    "    GPIO.setup(cooler_pin, GPIO.OUT)\n",
    "    GPIO.output(cooler_pin, heat_on)\n",
    "\n",
    "    # Clean up the GPIO pins \n",
    "    GPIO.cleanup()\n"
   ]
  },
  {
   "cell_type": "code",
   "execution_count": 5,
   "metadata": {},
   "outputs": [],
   "source": [
    "# Function to activate ventilator \n",
    "def activate_ventilator(ventilator_pin,heat_on):\n",
    "    GPIO.setmode(GPIO.BOARD)\n",
    "    GPIO.setup(ventilator_pin, GPIO.OUT)\n",
    "    GPIO.output(ventilator_pin, heat_on)\n",
    "\n",
    "    # Clean up the GPIO pins \n",
    "    GPIO.cleanup()"
   ]
  },
  {
   "cell_type": "code",
   "execution_count": 6,
   "metadata": {},
   "outputs": [],
   "source": [
    "# Function to activate humidity_water \n",
    "def activate_humidity_water(humidity_water_pin,heat_on):\n",
    "    GPIO.setmode(GPIO.BOARD)\n",
    "    GPIO.setup(humidity_water_pin, GPIO.OUT)\n",
    "    GPIO.output(humidity_water_pin, heat_on)\n",
    "\n",
    "    # Clean up the GPIO pins \n",
    "    GPIO.cleanup()"
   ]
  },
  {
   "cell_type": "code",
   "execution_count": 7,
   "metadata": {},
   "outputs": [],
   "source": [
    "# Function to activate irrigation\n",
    "def activate_irrigation(irrigation_pin,water_on):\n",
    "    GPIO.setmode(GPIO.BOARD)\n",
    "    GPIO.setup(irrigation_pin, GPIO.OUT)\n",
    "    GPIO.output(irrigation_pin, water_on)\n",
    "\n",
    "    # Clean up the GPIO pins \n",
    "    GPIO.cleanup()"
   ]
  },
  {
   "cell_type": "code",
   "execution_count": 8,
   "metadata": {},
   "outputs": [],
   "source": [
    "# Function to activate lighting\n",
    "def activate_led(led_pin,led_on):\n",
    "    GPIO.setmode(GPIO.BOARD)\n",
    "    GPIO.setup(led_pin, GPIO.OUT)\n",
    "    GPIO.output(led_pin, led_on)\n",
    "\n",
    "    # Clean up the GPIO pins \n",
    "    GPIO.cleanup()"
   ]
  }
 ],
 "metadata": {
  "kernelspec": {
   "display_name": "base",
   "language": "python",
   "name": "python3"
  },
  "language_info": {
   "codemirror_mode": {
    "name": "ipython",
    "version": 3
   },
   "file_extension": ".py",
   "mimetype": "text/x-python",
   "name": "python",
   "nbconvert_exporter": "python",
   "pygments_lexer": "ipython3",
   "version": "3.11.7"
  }
 },
 "nbformat": 4,
 "nbformat_minor": 2
}
